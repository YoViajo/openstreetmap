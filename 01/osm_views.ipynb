{
 "cells": [
  {
   "cell_type": "markdown",
   "metadata": {},
   "source": [
    "Ref: https://osmviews.toolforge.org/\n",
    "\n",
    "OSMViews\n",
    "World-wide ranking of geographic locations based on OpenStreetMap tile logs."
   ]
  },
  {
   "cell_type": "code",
   "execution_count": 1,
   "metadata": {},
   "outputs": [],
   "source": [
    "import osmviews"
   ]
  },
  {
   "cell_type": "markdown",
   "metadata": {},
   "source": [
    "Calcular el rango para algunas ciudades del mundo"
   ]
  },
  {
   "cell_type": "code",
   "execution_count": 2,
   "metadata": {},
   "outputs": [
    {
     "name": "stdout",
     "output_type": "stream",
     "text": [
      "Tokyo, Shibuya:      236715.36\n",
      "Tokyo, Sumida:        62765.51\n",
      "Zürich, Altstetten:   39000.53\n",
      "Zürich, Witikon:      11948.80\n",
      "Ushuaia, Costa Este:   2710.21\n",
      "Ushuaia, Las Reinas:    267.67\n"
     ]
    }
   ],
   "source": [
    "osmviews.download('/home/yoviajo/Documentos/lab/geom/osm/osmviews.tiff')\n",
    "with osmviews.open('/home/yoviajo/Documentos/lab/geom/osm/osmviews.tiff') as o:\n",
    "    print(f'Tokyo, Shibuya:      {o.rank( 35.658514, 139.701330):>9.2f}')\n",
    "    print(f'Tokyo, Sumida:       {o.rank( 35.710719, 139.801547):>9.2f}')\n",
    "    print(f'Zürich, Altstetten:  {o.rank( 47.391485,   8.488945):>9.2f}')\n",
    "    print(f'Zürich, Witikon:     {o.rank( 47.358651,   8.590251):>9.2f}')\n",
    "    print(f'Ushuaia, Costa Este: {o.rank(-54.794395, -68.251958):>9.2f}')\n",
    "    print(f'Ushuaia, Las Reinas: {o.rank(-54.769225, -68.279174):>9.2f}')"
   ]
  },
  {
   "cell_type": "markdown",
   "metadata": {},
   "source": [
    "Para el centro de la ciudad de Santa Cruz, SC, Bolivia"
   ]
  },
  {
   "cell_type": "code",
   "execution_count": 3,
   "metadata": {},
   "outputs": [
    {
     "name": "stdout",
     "output_type": "stream",
     "text": [
      "Santa Cruz, SC:       74166.62\n"
     ]
    }
   ],
   "source": [
    "with osmviews.open('/home/yoviajo/Documentos/lab/geom/osm/osmviews.tiff') as o:\n",
    "    print(f'Santa Cruz, SC:      {o.rank( -17.783330, -63.182126):>9.2f}')"
   ]
  },
  {
   "cell_type": "markdown",
   "metadata": {},
   "source": [
    "Para el centro de la ciudad de La Paz, LP, Bolivia"
   ]
  },
  {
   "cell_type": "code",
   "execution_count": 4,
   "metadata": {},
   "outputs": [
    {
     "name": "stdout",
     "output_type": "stream",
     "text": [
      "La Paz, LP:      208290.84\n"
     ]
    }
   ],
   "source": [
    "with osmviews.open('/home/yoviajo/Documentos/lab/geom/osm/osmviews.tiff') as o:\n",
    "    print(f'La Paz, LP:      {o.rank( -16.495728, -68.133548):>9.2f}')"
   ]
  },
  {
   "cell_type": "code",
   "execution_count": null,
   "metadata": {},
   "outputs": [],
   "source": [
    "Y ahora para Times Square, en la ciudad de Nueva York"
   ]
  },
  {
   "cell_type": "code",
   "execution_count": 5,
   "metadata": {},
   "outputs": [
    {
     "name": "stdout",
     "output_type": "stream",
     "text": [
      "New York city, Times Square:      522528.72\n"
     ]
    }
   ],
   "source": [
    "with osmviews.open('/home/yoviajo/Documentos/lab/geom/osm/osmviews.tiff') as o:\n",
    "    print(f'New York city, Times Square:      {o.rank( 40.757590, -73.985658):>9.2f}')"
   ]
  },
  {
   "cell_type": "code",
   "execution_count": null,
   "metadata": {},
   "outputs": [],
   "source": []
  }
 ],
 "metadata": {
  "interpreter": {
   "hash": "916dbcbb3f70747c44a77c7bcd40155683ae19c65e1c03b4aa3499c5328201f1"
  },
  "kernelspec": {
   "display_name": "osm_env",
   "language": "python",
   "name": "osm_env"
  },
  "language_info": {
   "codemirror_mode": {
    "name": "ipython",
    "version": 3
   },
   "file_extension": ".py",
   "mimetype": "text/x-python",
   "name": "python",
   "nbconvert_exporter": "python",
   "pygments_lexer": "ipython3",
   "version": "3.9.12"
  }
 },
 "nbformat": 4,
 "nbformat_minor": 2
}
